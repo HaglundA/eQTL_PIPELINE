{
 "cells": [
  {
   "cell_type": "code",
   "execution_count": 1,
   "metadata": {
    "vscode": {
     "languageId": "r"
    }
   },
   "outputs": [
    {
     "name": "stderr",
     "output_type": "stream",
     "text": [
      "Loading required package: gdsfmt\n",
      "\n",
      "── \u001b[1mAttaching core tidyverse packages\u001b[22m ──────────────────────── tidyverse 2.0.0 ──\n",
      "\u001b[32m✔\u001b[39m \u001b[34mdplyr    \u001b[39m 1.1.4     \u001b[32m✔\u001b[39m \u001b[34mreadr    \u001b[39m 2.1.5\n",
      "\u001b[32m✔\u001b[39m \u001b[34mforcats  \u001b[39m 1.0.0     \u001b[32m✔\u001b[39m \u001b[34mstringr  \u001b[39m 1.5.1\n",
      "\u001b[32m✔\u001b[39m \u001b[34mggplot2  \u001b[39m 3.5.1     \u001b[32m✔\u001b[39m \u001b[34mtibble   \u001b[39m 3.2.1\n",
      "\u001b[32m✔\u001b[39m \u001b[34mlubridate\u001b[39m 1.9.3     \u001b[32m✔\u001b[39m \u001b[34mtidyr    \u001b[39m 1.3.1\n",
      "\u001b[32m✔\u001b[39m \u001b[34mpurrr    \u001b[39m 1.0.2     \n",
      "── \u001b[1mConflicts\u001b[22m ────────────────────────────────────────── tidyverse_conflicts() ──\n",
      "\u001b[31m✖\u001b[39m \u001b[34mdplyr\u001b[39m::\u001b[32mfilter()\u001b[39m  masks \u001b[34mstats\u001b[39m::filter()\n",
      "\u001b[31m✖\u001b[39m \u001b[34mstringr\u001b[39m::\u001b[32mfixed()\u001b[39m masks \u001b[34mSeqArray\u001b[39m::fixed()\n",
      "\u001b[31m✖\u001b[39m \u001b[34mdplyr\u001b[39m::\u001b[32mlag()\u001b[39m     masks \u001b[34mstats\u001b[39m::lag()\n",
      "\u001b[36mℹ\u001b[39m Use the conflicted package (\u001b[3m\u001b[34m<http://conflicted.r-lib.org/>\u001b[39m\u001b[23m) to force all conflicts to become errors\n"
     ]
    }
   ],
   "source": [
    "# Load the SeqArray package\n",
    "library(SeqArray)\n",
    "library(tidyverse)\n",
    "\n",
    "outdir=\"/rds/general/user/ah3918/projects/puklandmarkproject/live/Users/Alex/pipelines/eqtl_pipeline_dev\"\n",
    "gds_file=\"/rds/general/user/ah3918/projects/roche/live/ALEX//PROCESSED_DATA/PROCESSED_GENOTYPE/FINAL/final_geno_440samples.gds\""
   ]
  },
  {
   "cell_type": "code",
   "execution_count": 2,
   "metadata": {
    "vscode": {
     "languageId": "r"
    }
   },
   "outputs": [],
   "source": [
    "gds_file=\"/rds/general/user/ah3918/projects/roche/live/ALEX//PROCESSED_DATA/PROCESSED_GENOTYPE/FINAL/final_geno_440samples.gds\"\n",
    "parallel=FALSE\n",
    "preprocess=FALSE\n",
    "autosomalonly=TRUE\n",
    "minmaf=0.05"
   ]
  },
  {
   "cell_type": "code",
   "execution_count": 3,
   "metadata": {
    "vscode": {
     "languageId": "r"
    }
   },
   "outputs": [],
   "source": [
    "genofile=SeqArray::seqOpen(gds_file)"
   ]
  },
  {
   "cell_type": "code",
   "execution_count": 5,
   "metadata": {
    "vscode": {
     "languageId": "r"
    }
   },
   "outputs": [
    {
     "data": {
      "text/plain": [
       "GRanges object with 1 range and 0 metadata columns:\n",
       "      seqnames             ranges strand\n",
       "         <Rle>          <IRanges>  <Rle>\n",
       "  [1]     chr8 99572874-101663585      *\n",
       "  -------\n",
       "  seqinfo: 1 sequence from an unspecified genome; no seqlengths"
      ]
     },
     "metadata": {},
     "output_type": "display_data"
    }
   ],
   "source": [
    "library(GenomicRanges)\n",
    "# Define the original range\n",
    "original_range <- GRanges(seqnames = \"chr8\",\n",
    "                          ranges = IRanges(start = 100572874, end = 100663585))\n",
    "                          # Extend the range by 1Mb (1,000,000 base pairs) from each end\n",
    "extended_start <- start(original_range) - 1000000\n",
    "extended_end <- end(original_range) + 1000000\n",
    "\n",
    "# Create the extended GRanges object\n",
    "extended_range <- GRanges(seqnames = \"chr8\",\n",
    "                          ranges = IRanges(start = extended_start, end = extended_end))\n",
    "\n",
    "# Print the extended range\n",
    "extended_range"
   ]
  },
  {
   "cell_type": "code",
   "execution_count": 6,
   "metadata": {
    "vscode": {
     "languageId": "r"
    }
   },
   "outputs": [
    {
     "name": "stdout",
     "output_type": "stream",
     "text": [
      "[==================================================] 100%, completed, 10s\n",
      "# of selected variants: 5,224,621\n"
     ]
    }
   ],
   "source": [
    "SeqArray::seqSetFilterCond(genofile,maf=minmaf)\n"
   ]
  },
  {
   "cell_type": "code",
   "execution_count": 7,
   "metadata": {
    "vscode": {
     "languageId": "r"
    }
   },
   "outputs": [
    {
     "name": "stdout",
     "output_type": "stream",
     "text": [
      "# of selected variants: 3,354\n"
     ]
    }
   ],
   "source": [
    "SeqArray::seqSetFilter(genofile,variant.sel=extended_range)"
   ]
  },
  {
   "cell_type": "code",
   "execution_count": 9,
   "metadata": {
    "vscode": {
     "languageId": "r"
    }
   },
   "outputs": [
    {
     "name": "stdout",
     "output_type": "stream",
     "text": [
      "Export to ‘/rds/general/user/ah3918/projects/puklandmarkproject/live/Users/Alex/pipelines/TEST_DATA/test_geno.gds’:\n",
      "    sample.id (440)\u001b[2m  [md5: 19a02026c60ef51016d58081c3b86906]\u001b[22m\n",
      "    variant.id (3,354)\u001b[2m  [md5: b40e44716784be1768a9a07167182279]\u001b[22m\n",
      "    position\u001b[2m  [md5: 66239dd74f8c12f9d52d98487a9a6909]\u001b[22m\n",
      "    chromosome\u001b[2m  [md5: 16a41660c237f7dbcc1498bfad3d63bf]\u001b[22m\n",
      "    allele\u001b[2m  [md5: b47dbc34e864012cdda251b95aec814a]\u001b[22m\n",
      "    genotype\u001b[2m  [md5: 963a320c8a43d356f14aefde4c26fec0]\u001b[22m\n",
      "    phase\u001b[2m  [md5: 29291a178d8ef139e557684563eab2f3]\u001b[22m\n",
      "    annotation/id\u001b[2m  [md5: 58b1a28ba2f31cbe877b136657c4ae2d]\u001b[22m\n",
      "    annotation/qual\u001b[2m  [md5: 997e0f77c22e2c0bbb2254df87f9cdd4]\u001b[22m\n",
      "    annotation/filter\u001b[2m  [md5: 266143e1c3c54b47d6f922d8050fd190]\u001b[22m\n",
      "    annotation/info/PR\u001b[2m  [md5: 1431c8252a622660e7678621f16ee720]\u001b[22m\n",
      "Done.\n",
      "Optimize the access efficiency ...\n",
      "Clean up the fragments of GDS file:\n",
      "    open the file '/rds/general/user/ah3918/projects/puklandmarkproject/live/Users/Alex/pipelines/TEST_DATA/test_geno.gds' (84.5K)\n",
      "    # of fragments: 91\n",
      "    save to '/rds/general/user/ah3918/projects/puklandmarkproject/live/Users/Alex/pipelines/TEST_DATA/test_geno.gds.tmp'\n",
      "    rename '/rds/general/user/ah3918/projects/puklandmarkproject/live/Users/Alex/pipelines/TEST_DATA/test_geno.gds.tmp' (84.1K, reduced: 444B)\n",
      "    # of fragments: 54\n"
     ]
    }
   ],
   "source": [
    "seqExport(genofile, \"/rds/general/user/ah3918/projects/puklandmarkproject/live/Users/Alex/pipelines/TEST_DATA/test_geno.gds\")"
   ]
  },
  {
   "cell_type": "code",
   "execution_count": 28,
   "metadata": {
    "vscode": {
     "languageId": "r"
    }
   },
   "outputs": [],
   "source": [
    "annot<-SeqArray::seqGetData(genofile,\"annotation/id\")\n",
    "sample.id<-SeqArray::seqGetData(genofile,\"sample.id\")\n",
    "geno_mat<-t(SeqArray::seqGetData(genofile,\"$dosage\"))\n",
    "position<-SeqArray::seqGetData(genofile,\"position\")\n",
    "chrom<-SeqArray::seqGetData(genofile,\"chromosome\")"
   ]
  },
  {
   "cell_type": "code",
   "execution_count": 29,
   "metadata": {
    "vscode": {
     "languageId": "r"
    }
   },
   "outputs": [
    {
     "data": {
      "text/html": [
       "<table class=\"dataframe\">\n",
       "<caption>A matrix: 6 × 440 of type int</caption>\n",
       "<tbody>\n",
       "\t<tr><td>2</td><td>2</td><td>2</td><td>2</td><td>2</td><td>2</td><td>2</td><td>2</td><td>1</td><td>2</td><td>⋯</td><td>2</td><td>1</td><td>2</td><td>2</td><td>2</td><td>2</td><td>2</td><td>2</td><td>2</td><td>2</td></tr>\n",
       "\t<tr><td>0</td><td>0</td><td>1</td><td>1</td><td>1</td><td>1</td><td>1</td><td>0</td><td>1</td><td>1</td><td>⋯</td><td>0</td><td>1</td><td>0</td><td>0</td><td>0</td><td>0</td><td>0</td><td>1</td><td>0</td><td>0</td></tr>\n",
       "\t<tr><td>2</td><td>2</td><td>1</td><td>2</td><td>2</td><td>2</td><td>2</td><td>2</td><td>1</td><td>2</td><td>⋯</td><td>2</td><td>1</td><td>2</td><td>2</td><td>2</td><td>2</td><td>2</td><td>2</td><td>2</td><td>2</td></tr>\n",
       "\t<tr><td>2</td><td>2</td><td>1</td><td>2</td><td>2</td><td>2</td><td>2</td><td>2</td><td>1</td><td>2</td><td>⋯</td><td>2</td><td>1</td><td>2</td><td>2</td><td>2</td><td>2</td><td>2</td><td>2</td><td>2</td><td>2</td></tr>\n",
       "\t<tr><td>2</td><td>2</td><td>1</td><td>2</td><td>2</td><td>2</td><td>1</td><td>2</td><td>1</td><td>2</td><td>⋯</td><td>2</td><td>1</td><td>2</td><td>2</td><td>2</td><td>2</td><td>2</td><td>2</td><td>2</td><td>2</td></tr>\n",
       "\t<tr><td>0</td><td>0</td><td>1</td><td>1</td><td>1</td><td>1</td><td>1</td><td>0</td><td>1</td><td>1</td><td>⋯</td><td>0</td><td>1</td><td>0</td><td>0</td><td>0</td><td>0</td><td>0</td><td>1</td><td>0</td><td>0</td></tr>\n",
       "</tbody>\n",
       "</table>\n"
      ],
      "text/latex": [
       "A matrix: 6 × 440 of type int\n",
       "\\begin{tabular}{lllllllllllllllllllll}\n",
       "\t 2 & 2 & 2 & 2 & 2 & 2 & 2 & 2 & 1 & 2 & ⋯ & 2 & 1 & 2 & 2 & 2 & 2 & 2 & 2 & 2 & 2\\\\\n",
       "\t 0 & 0 & 1 & 1 & 1 & 1 & 1 & 0 & 1 & 1 & ⋯ & 0 & 1 & 0 & 0 & 0 & 0 & 0 & 1 & 0 & 0\\\\\n",
       "\t 2 & 2 & 1 & 2 & 2 & 2 & 2 & 2 & 1 & 2 & ⋯ & 2 & 1 & 2 & 2 & 2 & 2 & 2 & 2 & 2 & 2\\\\\n",
       "\t 2 & 2 & 1 & 2 & 2 & 2 & 2 & 2 & 1 & 2 & ⋯ & 2 & 1 & 2 & 2 & 2 & 2 & 2 & 2 & 2 & 2\\\\\n",
       "\t 2 & 2 & 1 & 2 & 2 & 2 & 1 & 2 & 1 & 2 & ⋯ & 2 & 1 & 2 & 2 & 2 & 2 & 2 & 2 & 2 & 2\\\\\n",
       "\t 0 & 0 & 1 & 1 & 1 & 1 & 1 & 0 & 1 & 1 & ⋯ & 0 & 1 & 0 & 0 & 0 & 0 & 0 & 1 & 0 & 0\\\\\n",
       "\\end{tabular}\n"
      ],
      "text/markdown": [
       "\n",
       "A matrix: 6 × 440 of type int\n",
       "\n",
       "| 2 | 2 | 2 | 2 | 2 | 2 | 2 | 2 | 1 | 2 | ⋯ | 2 | 1 | 2 | 2 | 2 | 2 | 2 | 2 | 2 | 2 |\n",
       "| 0 | 0 | 1 | 1 | 1 | 1 | 1 | 0 | 1 | 1 | ⋯ | 0 | 1 | 0 | 0 | 0 | 0 | 0 | 1 | 0 | 0 |\n",
       "| 2 | 2 | 1 | 2 | 2 | 2 | 2 | 2 | 1 | 2 | ⋯ | 2 | 1 | 2 | 2 | 2 | 2 | 2 | 2 | 2 | 2 |\n",
       "| 2 | 2 | 1 | 2 | 2 | 2 | 2 | 2 | 1 | 2 | ⋯ | 2 | 1 | 2 | 2 | 2 | 2 | 2 | 2 | 2 | 2 |\n",
       "| 2 | 2 | 1 | 2 | 2 | 2 | 1 | 2 | 1 | 2 | ⋯ | 2 | 1 | 2 | 2 | 2 | 2 | 2 | 2 | 2 | 2 |\n",
       "| 0 | 0 | 1 | 1 | 1 | 1 | 1 | 0 | 1 | 1 | ⋯ | 0 | 1 | 0 | 0 | 0 | 0 | 0 | 1 | 0 | 0 |\n",
       "\n"
      ],
      "text/plain": [
       "     [,1] [,2] [,3] [,4] [,5] [,6] [,7] [,8] [,9] [,10] [,11] [,12] [,13] [,14]\n",
       "[1,] 2    2    2    2    2    2    2    2    1    2     ⋯     2     1     2    \n",
       "[2,] 0    0    1    1    1    1    1    0    1    1     ⋯     0     1     0    \n",
       "[3,] 2    2    1    2    2    2    2    2    1    2     ⋯     2     1     2    \n",
       "[4,] 2    2    1    2    2    2    2    2    1    2     ⋯     2     1     2    \n",
       "[5,] 2    2    1    2    2    2    1    2    1    2     ⋯     2     1     2    \n",
       "[6,] 0    0    1    1    1    1    1    0    1    1     ⋯     0     1     0    \n",
       "     [,15] [,16] [,17] [,18] [,19] [,20] [,21]\n",
       "[1,] 2     2     2     2     2     2     2    \n",
       "[2,] 0     0     0     0     1     0     0    \n",
       "[3,] 2     2     2     2     2     2     2    \n",
       "[4,] 2     2     2     2     2     2     2    \n",
       "[5,] 2     2     2     2     2     2     2    \n",
       "[6,] 0     0     0     0     1     0     0    "
      ]
     },
     "metadata": {},
     "output_type": "display_data"
    }
   ],
   "source": [
    "head(geno_mat)"
   ]
  },
  {
   "cell_type": "code",
   "execution_count": 20,
   "metadata": {
    "vscode": {
     "languageId": "r"
    }
   },
   "outputs": [],
   "source": [
    "  allele<-SeqArray::seqGetData(genofile,\"allele\")\n",
    "  allele<-strsplit(allele,\",\")\n",
    "  allele<-as.data.frame(do.call(rbind,allele))"
   ]
  },
  {
   "cell_type": "code",
   "execution_count": null,
   "metadata": {
    "vscode": {
     "languageId": "r"
    }
   },
   "outputs": [
    {
     "data": {
      "text/html": [
       "<style>\n",
       ".list-inline {list-style: none; margin:0; padding: 0}\n",
       ".list-inline>li {display: inline-block}\n",
       ".list-inline>li:not(:last-child)::after {content: \"\\00b7\"; padding: 0 .5ex}\n",
       "</style>\n",
       "<ol class=list-inline><li>'chr1:758351:A:G'</li><li>'chr1:794299:C:G;chr1:794299:G:C'</li><li>'chr1:796338:T:C'</li><li>'chr1:798969:T:C'</li><li>'chr1:800909:T:A'</li><li>'chr1:817186:G:A;chr1:817186:A:G'</li></ol>\n"
      ],
      "text/latex": [
       "\\begin{enumerate*}\n",
       "\\item 'chr1:758351:A:G'\n",
       "\\item 'chr1:794299:C:G;chr1:794299:G:C'\n",
       "\\item 'chr1:796338:T:C'\n",
       "\\item 'chr1:798969:T:C'\n",
       "\\item 'chr1:800909:T:A'\n",
       "\\item 'chr1:817186:G:A;chr1:817186:A:G'\n",
       "\\end{enumerate*}\n"
      ],
      "text/markdown": [
       "1. 'chr1:758351:A:G'\n",
       "2. 'chr1:794299:C:G;chr1:794299:G:C'\n",
       "3. 'chr1:796338:T:C'\n",
       "4. 'chr1:798969:T:C'\n",
       "5. 'chr1:800909:T:A'\n",
       "6. 'chr1:817186:G:A;chr1:817186:A:G'\n",
       "\n",
       "\n"
      ],
      "text/plain": [
       "[1] \"chr1:758351:A:G\"                 \"chr1:794299:C:G;chr1:794299:G:C\"\n",
       "[3] \"chr1:796338:T:C\"                 \"chr1:798969:T:C\"                \n",
       "[5] \"chr1:800909:T:A\"                 \"chr1:817186:G:A;chr1:817186:A:G\""
      ]
     },
     "metadata": {},
     "output_type": "display_data"
    }
   ],
   "source": [
    "head(annot)\n",
    "head"
   ]
  },
  {
   "cell_type": "code",
   "execution_count": 7,
   "metadata": {
    "vscode": {
     "languageId": "r"
    }
   },
   "outputs": [],
   "source": [
    " chrompos_mat<-data.frame(annot,chrom,position)\n",
    "  chrompos_mat<-chrompos_mat[!duplicated(chrompos_mat$annot),]\n",
    "\n",
    "  #clean / reformat\n",
    "  colnames(geno_mat)<-sample.id\n",
    "  geno_mat<-as.data.frame(geno_mat)\n",
    "  geno_mat$snp<-annot\n",
    "  geno_mat<-geno_mat[!duplicated(geno_mat$snp),]\n",
    "  rownames(geno_mat)<-geno_mat$snp"
   ]
  },
  {
   "cell_type": "code",
   "execution_count": 27,
   "metadata": {
    "vscode": {
     "languageId": "r"
    }
   },
   "outputs": [
    {
     "ename": "ERROR",
     "evalue": "\u001b[1m\u001b[33mError\u001b[39m in `mutate()`:\u001b[22m\n\u001b[1m\u001b[22m\u001b[33m!\u001b[39m Can't transform a data frame with `NA` or `\"\"` names.\n",
     "output_type": "error",
     "traceback": [
      "\u001b[1m\u001b[33mError\u001b[39m in `mutate()`:\u001b[22m\n\u001b[1m\u001b[22m\u001b[33m!\u001b[39m Can't transform a data frame with `NA` or `\"\"` names.\nTraceback:\n",
      "1. t(geno_mat) %>% as.data.frame() %>% setNames(sample.id) %>% mutate(snp = annot) %>% \n .     distinct(snp, .keep_all = TRUE)",
      "2. distinct(., snp, .keep_all = TRUE)",
      "3. mutate(., snp = annot)",
      "4. mutate.data.frame(., snp = annot)",
      "5. mutate_cols(.data, dplyr_quosures(...), by)",
      "6. DataMask$new(data, by, \"mutate\", error_call = error_call)",
      "7. initialize(...)",
      "8. abort(\"Can't transform a data frame with `NA` or `\\\"\\\"` names.\", \n .     call = error_call)",
      "9. signal_abort(cnd, .file)"
     ]
    }
   ],
   "source": [
    "chrompos_mat <- data.frame(annot, chrom, position) %>%\n",
    "    distinct(annot, .keep_all = TRUE)\n",
    "\n",
    "geno_mat <- t(geno_mat) %>%\n",
    "    as.data.frame() %>%\n",
    "    setNames(sample.id) %>%\n",
    "    mutate(snp = annot) %>%\n",
    "    distinct(snp, .keep_all = TRUE) \n",
    "\n"
   ]
  },
  {
   "cell_type": "code",
   "execution_count": null,
   "metadata": {
    "vscode": {
     "languageId": "r"
    }
   },
   "outputs": [],
   "source": []
  },
  {
   "cell_type": "code",
   "execution_count": null,
   "metadata": {
    "vscode": {
     "languageId": "r"
    }
   },
   "outputs": [],
   "source": []
  },
  {
   "cell_type": "code",
   "execution_count": 24,
   "metadata": {
    "vscode": {
     "languageId": "r"
    }
   },
   "outputs": [
    {
     "data": {
      "text/html": [
       "1335004"
      ],
      "text/latex": [
       "1335004"
      ],
      "text/markdown": [
       "1335004"
      ],
      "text/plain": [
       "[1] 1335004"
      ]
     },
     "metadata": {},
     "output_type": "display_data"
    }
   ],
   "source": [
    "length(grep(\";\",chrompos_mat$annot))"
   ]
  },
  {
   "cell_type": "code",
   "execution_count": 25,
   "metadata": {
    "vscode": {
     "languageId": "r"
    }
   },
   "outputs": [
    {
     "data": {
      "text/html": [
       "<table class=\"dataframe\">\n",
       "<caption>A data.frame: 6 × 3</caption>\n",
       "<thead>\n",
       "\t<tr><th></th><th scope=col>annot</th><th scope=col>chrom</th><th scope=col>position</th></tr>\n",
       "\t<tr><th></th><th scope=col>&lt;chr&gt;</th><th scope=col>&lt;chr&gt;</th><th scope=col>&lt;int&gt;</th></tr>\n",
       "</thead>\n",
       "<tbody>\n",
       "\t<tr><th scope=row>1</th><td>chr1:758351:A:G                </td><td>1</td><td>758351</td></tr>\n",
       "\t<tr><th scope=row>2</th><td>chr1:794299:C:G;chr1:794299:G:C</td><td>1</td><td>794299</td></tr>\n",
       "\t<tr><th scope=row>3</th><td>chr1:796338:T:C                </td><td>1</td><td>796338</td></tr>\n",
       "\t<tr><th scope=row>4</th><td>chr1:798969:T:C                </td><td>1</td><td>798969</td></tr>\n",
       "\t<tr><th scope=row>5</th><td>chr1:800909:T:A                </td><td>1</td><td>800909</td></tr>\n",
       "\t<tr><th scope=row>6</th><td>chr1:817186:G:A;chr1:817186:A:G</td><td>1</td><td>817186</td></tr>\n",
       "</tbody>\n",
       "</table>\n"
      ],
      "text/latex": [
       "A data.frame: 6 × 3\n",
       "\\begin{tabular}{r|lll}\n",
       "  & annot & chrom & position\\\\\n",
       "  & <chr> & <chr> & <int>\\\\\n",
       "\\hline\n",
       "\t1 & chr1:758351:A:G                 & 1 & 758351\\\\\n",
       "\t2 & chr1:794299:C:G;chr1:794299:G:C & 1 & 794299\\\\\n",
       "\t3 & chr1:796338:T:C                 & 1 & 796338\\\\\n",
       "\t4 & chr1:798969:T:C                 & 1 & 798969\\\\\n",
       "\t5 & chr1:800909:T:A                 & 1 & 800909\\\\\n",
       "\t6 & chr1:817186:G:A;chr1:817186:A:G & 1 & 817186\\\\\n",
       "\\end{tabular}\n"
      ],
      "text/markdown": [
       "\n",
       "A data.frame: 6 × 3\n",
       "\n",
       "| <!--/--> | annot &lt;chr&gt; | chrom &lt;chr&gt; | position &lt;int&gt; |\n",
       "|---|---|---|---|\n",
       "| 1 | chr1:758351:A:G                 | 1 | 758351 |\n",
       "| 2 | chr1:794299:C:G;chr1:794299:G:C | 1 | 794299 |\n",
       "| 3 | chr1:796338:T:C                 | 1 | 796338 |\n",
       "| 4 | chr1:798969:T:C                 | 1 | 798969 |\n",
       "| 5 | chr1:800909:T:A                 | 1 | 800909 |\n",
       "| 6 | chr1:817186:G:A;chr1:817186:A:G | 1 | 817186 |\n",
       "\n"
      ],
      "text/plain": [
       "  annot                           chrom position\n",
       "1 chr1:758351:A:G                 1     758351  \n",
       "2 chr1:794299:C:G;chr1:794299:G:C 1     794299  \n",
       "3 chr1:796338:T:C                 1     796338  \n",
       "4 chr1:798969:T:C                 1     798969  \n",
       "5 chr1:800909:T:A                 1     800909  \n",
       "6 chr1:817186:G:A;chr1:817186:A:G 1     817186  "
      ]
     },
     "metadata": {},
     "output_type": "display_data"
    },
    {
     "data": {
      "text/html": [
       "<style>\n",
       ".list-inline {list-style: none; margin:0; padding: 0}\n",
       ".list-inline>li {display: inline-block}\n",
       ".list-inline>li:not(:last-child)::after {content: \"\\00b7\"; padding: 0 .5ex}\n",
       "</style>\n",
       "<ol class=list-inline><li>'chr1:758351:A:G'</li><li>'chr1:794299:C:G;chr1:794299:G:C'</li><li>'chr1:796338:T:C'</li><li>'chr1:798969:T:C'</li><li>'chr1:800909:T:A'</li><li>'chr1:817186:G:A;chr1:817186:A:G'</li></ol>\n"
      ],
      "text/latex": [
       "\\begin{enumerate*}\n",
       "\\item 'chr1:758351:A:G'\n",
       "\\item 'chr1:794299:C:G;chr1:794299:G:C'\n",
       "\\item 'chr1:796338:T:C'\n",
       "\\item 'chr1:798969:T:C'\n",
       "\\item 'chr1:800909:T:A'\n",
       "\\item 'chr1:817186:G:A;chr1:817186:A:G'\n",
       "\\end{enumerate*}\n"
      ],
      "text/markdown": [
       "1. 'chr1:758351:A:G'\n",
       "2. 'chr1:794299:C:G;chr1:794299:G:C'\n",
       "3. 'chr1:796338:T:C'\n",
       "4. 'chr1:798969:T:C'\n",
       "5. 'chr1:800909:T:A'\n",
       "6. 'chr1:817186:G:A;chr1:817186:A:G'\n",
       "\n",
       "\n"
      ],
      "text/plain": [
       "[1] \"chr1:758351:A:G\"                 \"chr1:794299:C:G;chr1:794299:G:C\"\n",
       "[3] \"chr1:796338:T:C\"                 \"chr1:798969:T:C\"                \n",
       "[5] \"chr1:800909:T:A\"                 \"chr1:817186:G:A;chr1:817186:A:G\""
      ]
     },
     "metadata": {},
     "output_type": "display_data"
    }
   ],
   "source": [
    "head(chrompos_mat)\n",
    "head(annot)"
   ]
  },
  {
   "cell_type": "code",
   "execution_count": 4,
   "metadata": {
    "vscode": {
     "languageId": "r"
    }
   },
   "outputs": [],
   "source": [
    "get_genotype_matrix=function(vcfs,\n",
    "  gds_file=\"merge_test_seqArray.gds\",\n",
    "  outdir=\".\",\n",
    "  parallel=FALSE,\n",
    "  preprocess=FALSE,\n",
    "  autosomalonly=TRUE,\n",
    "  minmaf=0.05){\n",
    "\n",
    "\n",
    "\n",
    "  if(preprocess==TRUE){\n",
    "    SeqArray::seqVCF2GDS(vcfs, gds_file,parallel=parallel)\n",
    "  }\n",
    "\n",
    "  genofile<<-SeqArray::seqOpen(gds_file)\n",
    "\n",
    "  if(autosomalonly==TRUE){\n",
    "    SeqArray::seqSetFilterChrom(genofile,1:22)\n",
    "  }\n",
    "\n",
    "  SeqArray::seqSetFilterCond(genofile,maf=minmaf)\n",
    "\n",
    "  #get snp info\n",
    "  annot<-SeqArray::seqGetData(genofile,\"annotation/id\")\n",
    "\n",
    "  #get sample names\n",
    "  sample.id<-SeqArray::seqGetData(genofile,\"sample.id\")\n",
    "\n",
    "  #get genotype dosage matrix (0,1,2)\n",
    "  geno_mat<-t(SeqArray::seqGetData(genofile,\"$dosage\"))\n",
    "\n",
    "  #create SNP locations file\n",
    "  position<-SeqArray::seqGetData(genofile,\"position\")\n",
    "  chrom<-SeqArray::seqGetData(genofile,\"chromosome\")\n",
    "  chrompos_mat<-data.frame(annot,chrom,position)\n",
    "  chrompos_mat<-chrompos_mat[!duplicated(chrompos_mat$annot),]\n",
    "\n",
    "  #clean / reformat\n",
    "  colnames(geno_mat)<-sample.id\n",
    "  geno_mat<-as.data.frame(geno_mat)\n",
    "  geno_mat$snp<-annot\n",
    "  geno_mat<-geno_mat[!duplicated(geno_mat$snp),]\n",
    "  rownames(geno_mat)<-geno_mat$snp\n",
    "\n",
    "  #\n",
    "  chrompos_mat$chrom<-paste0(\"chr\",chrompos_mat$chrom)\n",
    "  snpnumber<-length(rownames(geno_mat))\n",
    "\n",
    "  message(\"Checking snps for build and converting to rsids..\")\n",
    "\n",
    "  \n",
    "  chrompos_mat=check_snps(chrompos_mat)\n",
    "  geno_mat=geno_mat[match(chrompos_mat$old_snp,geno_mat$snp),]\n",
    "  geno_mat$snp=chrompos_mat$annot\n",
    "  rownames(geno_mat)=geno_mat$snp\n",
    "  message(paste0(\"A total of \",snpnumber,\" snps were kept.\"))\n",
    "\n",
    "  data.table::fwrite(geno_mat,\"genotype_012mat.csv\")\n",
    "  \n",
    "\n",
    "  #add alt. Allele Freq\n",
    "  allele<-SeqArray::seqGetData(genofile,\"allele\")\n",
    "  allele<-strsplit(allele,\",\")\n",
    "  allele<-as.data.frame(do.call(rbind,allele))\n",
    "\n",
    "\n",
    "    \n",
    "  #check if MAF info is available. If not, calculate it\n",
    "  maf_avail<-tryCatch({\n",
    "        out<-SeqArray::seqGetData(genofile,\"annotation/info/MAF\")\n",
    "    },\n",
    "     error=function(e){\n",
    "        out<-\"error\"\n",
    "         return(out)\n",
    "    }\n",
    "  )\n",
    "\n",
    "  if(length(maf_avail)>1){\n",
    "      maf<-SeqArray::seqGetData(genofile,\"annotation/info/MAF\")\n",
    "      }else if(maf_avail==\"error\"){\n",
    "      maf<- SeqArray::seqAlleleFreq(genofile, minor=TRUE)\n",
    "  }\n",
    "  \n",
    "  af_df<-data.frame(ref=allele$V1,\n",
    "    alt=allele$V2,\n",
    "    maf=maf,\n",
    "    snp=annot)\n",
    "    af_df$ref<-as.character(af_df$ref)\n",
    "    af_df$alt<-as.character(af_df$alt)\n",
    "    af_df$snp<-as.character(af_df$snp)\n",
    "\n",
    "\n",
    "    af_df<-af_df[match(chrompos_mat$old_snp,af_df$snp),]\n",
    "    af_df$snp<-chrompos_mat$annot\n",
    "\n",
    "\n",
    "\n",
    "      #remove extra columns\n",
    "  chrompos_mat=chrompos_mat[,c(\"annot\",\"chrom\",\"position\")]\n",
    "  data.table::fwrite(chrompos_mat,\"snp_chromlocations.csv\")\n",
    "\n",
    "\n",
    "\n",
    "  data.table::fwrite(af_df,\"MAF_mat.csv\")\n",
    "\n",
    "  SeqArray::seqClose(genofile)\n",
    "}"
   ]
  },
  {
   "cell_type": "code",
   "execution_count": null,
   "metadata": {
    "vscode": {
     "languageId": "r"
    }
   },
   "outputs": [],
   "source": []
  }
 ],
 "metadata": {
  "kernelspec": {
   "display_name": "R",
   "language": "R",
   "name": "ir"
  },
  "language_info": {
   "codemirror_mode": "r",
   "file_extension": ".r",
   "mimetype": "text/x-r-source",
   "name": "R",
   "pygments_lexer": "r",
   "version": "4.3.3"
  }
 },
 "nbformat": 4,
 "nbformat_minor": 2
}
