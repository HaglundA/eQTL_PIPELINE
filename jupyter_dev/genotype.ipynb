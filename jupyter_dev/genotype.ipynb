{
 "cells": [
  {
   "cell_type": "code",
   "execution_count": 1,
   "metadata": {
    "vscode": {
     "languageId": "r"
    }
   },
   "outputs": [
    {
     "name": "stderr",
     "output_type": "stream",
     "text": [
      "Loading required package: gdsfmt\n",
      "\n"
     ]
    }
   ],
   "source": [
    "# Load the SeqArray package\n",
    "library(SeqArray)\n",
    "\n",
    "\n",
    "outdir=\"/rds/general/user/ah3918/projects/puklandmarkproject/live/Users/Alex/pipelines/eqtl_pipeline_dev\"\n",
    "gds_file=\"/rds/general/user/ah3918/projects/roche/live/ALEX//PROCESSED_DATA/PROCESSED_GENOTYPE/FINAL/final_geno_440samples.gds\""
   ]
  },
  {
   "cell_type": "code",
   "execution_count": 3,
   "metadata": {
    "vscode": {
     "languageId": "r"
    }
   },
   "outputs": [],
   "source": [
    "gds_file=\"/rds/general/user/ah3918/projects/roche/live/ALEX//PROCESSED_DATA/PROCESSED_GENOTYPE/FINAL/final_geno_440samples.gds\"\n",
    "parallel=FALSE\n",
    "preprocess=FALSE\n",
    "autosomalonly=TRUE\n",
    "minmaf=0.05"
   ]
  },
  {
   "cell_type": "code",
   "execution_count": 4,
   "metadata": {
    "vscode": {
     "languageId": "r"
    }
   },
   "outputs": [],
   "source": [
    "genofile=SeqArray::seqOpen(gds_file)"
   ]
  },
  {
   "cell_type": "code",
   "execution_count": 5,
   "metadata": {
    "vscode": {
     "languageId": "r"
    }
   },
   "outputs": [
    {
     "name": "stdout",
     "output_type": "stream",
     "text": [
      "[==================================================] 100%, completed, 10s\n",
      "# of selected variants: 5,224,621\n"
     ]
    }
   ],
   "source": [
    "SeqArray::seqSetFilterCond(genofile,maf=minmaf)"
   ]
  },
  {
   "cell_type": "code",
   "execution_count": 4,
   "metadata": {
    "vscode": {
     "languageId": "r"
    }
   },
   "outputs": [],
   "source": [
    "get_genotype_matrix=function(vcfs,\n",
    "  gds_file=\"merge_test_seqArray.gds\",\n",
    "  outdir=\".\",\n",
    "  parallel=FALSE,\n",
    "  preprocess=FALSE,\n",
    "  autosomalonly=TRUE,\n",
    "  minmaf=0.05){\n",
    "\n",
    "\n",
    "\n",
    "  if(preprocess==TRUE){\n",
    "    SeqArray::seqVCF2GDS(vcfs, gds_file,parallel=parallel)\n",
    "  }\n",
    "\n",
    "  genofile<<-SeqArray::seqOpen(gds_file)\n",
    "\n",
    "  if(autosomalonly==TRUE){\n",
    "    SeqArray::seqSetFilterChrom(genofile,1:22)\n",
    "  }\n",
    "\n",
    "  SeqArray::seqSetFilterCond(genofile,maf=minmaf)\n",
    "\n",
    "  #get snp info\n",
    "  annot<-SeqArray::seqGetData(genofile,\"annotation/id\")\n",
    "\n",
    "  #get sample names\n",
    "  sample.id<-SeqArray::seqGetData(genofile,\"sample.id\")\n",
    "\n",
    "  #get genotype dosage matrix (0,1,2)\n",
    "  geno_mat<-t(SeqArray::seqGetData(genofile,\"$dosage\"))\n",
    "\n",
    "  #create SNP locations file\n",
    "  position<-SeqArray::seqGetData(genofile,\"position\")\n",
    "  chrom<-SeqArray::seqGetData(genofile,\"chromosome\")\n",
    "  chrompos_mat<-data.frame(annot,chrom,position)\n",
    "  chrompos_mat<-chrompos_mat[!duplicated(chrompos_mat$annot),]\n",
    "\n",
    "  #clean / reformat\n",
    "  colnames(geno_mat)<-sample.id\n",
    "  geno_mat<-as.data.frame(geno_mat)\n",
    "  geno_mat$snp<-annot\n",
    "  geno_mat<-geno_mat[!duplicated(geno_mat$snp),]\n",
    "  rownames(geno_mat)<-geno_mat$snp\n",
    "\n",
    "  #\n",
    "  chrompos_mat$chrom<-paste0(\"chr\",chrompos_mat$chrom)\n",
    "  snpnumber<-length(rownames(geno_mat))\n",
    "\n",
    "  message(\"Checking snps for build and converting to rsids..\")\n",
    "\n",
    "  \n",
    "  chrompos_mat=check_snps(chrompos_mat)\n",
    "  geno_mat=geno_mat[match(chrompos_mat$old_snp,geno_mat$snp),]\n",
    "  geno_mat$snp=chrompos_mat$annot\n",
    "  rownames(geno_mat)=geno_mat$snp\n",
    "  message(paste0(\"A total of \",snpnumber,\" snps were kept.\"))\n",
    "\n",
    "  data.table::fwrite(geno_mat,\"genotype_012mat.csv\")\n",
    "  \n",
    "\n",
    "  #add alt. Allele Freq\n",
    "  allele<-SeqArray::seqGetData(genofile,\"allele\")\n",
    "  allele<-strsplit(allele,\",\")\n",
    "  allele<-as.data.frame(do.call(rbind,allele))\n",
    "\n",
    "\n",
    "    \n",
    "  #check if MAF info is available. If not, calculate it\n",
    "  maf_avail<-tryCatch({\n",
    "        out<-SeqArray::seqGetData(genofile,\"annotation/info/MAF\")\n",
    "    },\n",
    "     error=function(e){\n",
    "        out<-\"error\"\n",
    "         return(out)\n",
    "    }\n",
    "  )\n",
    "\n",
    "  if(length(maf_avail)>1){\n",
    "      maf<-SeqArray::seqGetData(genofile,\"annotation/info/MAF\")\n",
    "      }else if(maf_avail==\"error\"){\n",
    "      maf<- SeqArray::seqAlleleFreq(genofile, minor=TRUE)\n",
    "  }\n",
    "  \n",
    "  af_df<-data.frame(ref=allele$V1,\n",
    "    alt=allele$V2,\n",
    "    maf=maf,\n",
    "    snp=annot)\n",
    "    af_df$ref<-as.character(af_df$ref)\n",
    "    af_df$alt<-as.character(af_df$alt)\n",
    "    af_df$snp<-as.character(af_df$snp)\n",
    "\n",
    "\n",
    "    af_df<-af_df[match(chrompos_mat$old_snp,af_df$snp),]\n",
    "    af_df$snp<-chrompos_mat$annot\n",
    "\n",
    "\n",
    "\n",
    "      #remove extra columns\n",
    "  chrompos_mat=chrompos_mat[,c(\"annot\",\"chrom\",\"position\")]\n",
    "  data.table::fwrite(chrompos_mat,\"snp_chromlocations.csv\")\n",
    "\n",
    "\n",
    "\n",
    "  data.table::fwrite(af_df,\"MAF_mat.csv\")\n",
    "\n",
    "  SeqArray::seqClose(genofile)\n",
    "}"
   ]
  },
  {
   "cell_type": "code",
   "execution_count": null,
   "metadata": {
    "vscode": {
     "languageId": "r"
    }
   },
   "outputs": [],
   "source": []
  }
 ],
 "metadata": {
  "kernelspec": {
   "display_name": "R-OSIRIS",
   "language": "R",
   "name": "ir"
  },
  "language_info": {
   "codemirror_mode": "r",
   "file_extension": ".r",
   "mimetype": "text/x-r-source",
   "name": "R",
   "pygments_lexer": "r",
   "version": "4.3.3"
  }
 },
 "nbformat": 4,
 "nbformat_minor": 2
}
