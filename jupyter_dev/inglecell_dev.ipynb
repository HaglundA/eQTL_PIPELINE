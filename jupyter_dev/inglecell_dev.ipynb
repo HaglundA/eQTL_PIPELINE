{
 "cells": [
  {
   "cell_type": "code",
   "execution_count": 1,
   "metadata": {
    "vscode": {
     "languageId": "r"
    }
   },
   "outputs": [
    {
     "name": "stderr",
     "output_type": "stream",
     "text": [
      "Loading required package: SeuratObject\n",
      "\n",
      "Loading required package: sp\n",
      "\n",
      "\n",
      "Attaching package: ‘SeuratObject’\n",
      "\n",
      "\n",
      "The following objects are masked from ‘package:base’:\n",
      "\n",
      "    intersect, t\n",
      "\n",
      "\n"
     ]
    }
   ],
   "source": [
    "library(Seurat)\n",
    "library(BPCells)"
   ]
  },
  {
   "cell_type": "code",
   "execution_count": 2,
   "metadata": {
    "vscode": {
     "languageId": "r"
    }
   },
   "outputs": [],
   "source": [
    "so=readRDS(\"/rds/general/user/ah3918/projects/roche/live/ALEX/ANALYSIS/SEURAT_OBJECTS/BRYOIS_92_MS_final_annotated_decontXfiltered.rds\")"
   ]
  },
  {
   "cell_type": "code",
   "execution_count": 5,
   "metadata": {
    "vscode": {
     "languageId": "r"
    }
   },
   "outputs": [],
   "source": [
    "DefaultAssay(so)=\"decontXcounts\""
   ]
  },
  {
   "cell_type": "code",
   "execution_count": 6,
   "metadata": {
    "vscode": {
     "languageId": "r"
    }
   },
   "outputs": [],
   "source": [
    "so[[\"RNA\"]]=NULL"
   ]
  },
  {
   "cell_type": "code",
   "execution_count": 7,
   "metadata": {
    "vscode": {
     "languageId": "r"
    }
   },
   "outputs": [
    {
     "name": "stderr",
     "output_type": "stream",
     "text": [
      "Warning: Matrix compression performs poorly with non-integers.\n",
      "\u001b[36m•\u001b[39m Consider calling convert_matrix_type if a compressed integer matrix is intended.\n",
      "\u001b[90mThis message is displayed once every 8 hours.\u001b[39m\n"
     ]
    },
    {
     "data": {
      "text/plain": [
       "21741 x 643373 IterableMatrix object with class MatrixDir\n",
       "\n",
       "Row names: FAM138A, OR4F5 ... LOC102724250\n",
       "Col names: EU006:AAACCCAAGCGTCAGA-1, EU006:AAACCCAAGGTACCTT-1 ... WM199:TTTGTTGGTACGTGTT-1\n",
       "\n",
       "Data type: double\n",
       "Storage order: column major\n",
       "\n",
       "Queued Operations:\n",
       "1. Load compressed matrix from directory /rds/general/project/puklandmarkproject/live/Users/Alex/pipelines/TEST_DATA/roche_ms_decontx"
      ]
     },
     "metadata": {},
     "output_type": "display_data"
    }
   ],
   "source": [
    " outdir=\"/rds/general/user/ah3918/projects/puklandmarkproject/live/Users/Alex/pipelines/TEST_DATA/\"\n",
    " write_matrix_dir(mat = so[[\"decontXcounts\"]]$counts, dir = paste0(outdir,\"roche_ms_decontx\"))\n",
    "\n",
    "\n"
   ]
  },
  {
   "cell_type": "code",
   "execution_count": 11,
   "metadata": {
    "vscode": {
     "languageId": "r"
    }
   },
   "outputs": [
    {
     "name": "stderr",
     "output_type": "stream",
     "text": [
      "Warning message:\n",
      "“Assay decontXcounts changing from Assay to Assay5”\n"
     ]
    }
   ],
   "source": [
    "so[[\"decontXcounts\"]] <- as(object = so[[\"decontXcounts\"]], Class = \"Assay5\")"
   ]
  },
  {
   "cell_type": "code",
   "execution_count": 12,
   "metadata": {
    "vscode": {
     "languageId": "r"
    }
   },
   "outputs": [],
   "source": [
    "counts.mat <- open_matrix_dir(dir = paste0(outdir,\"roche_ms_decontx\"))\n",
    "so[[\"decontXcounts\"]]$counts=counts.mat"
   ]
  },
  {
   "cell_type": "code",
   "execution_count": 13,
   "metadata": {
    "vscode": {
     "languageId": "r"
    }
   },
   "outputs": [],
   "source": [
    "saveRDS(so, file = paste0(outdir,\"roche_ms_decontx.rds\"))"
   ]
  },
  {
   "cell_type": "code",
   "execution_count": null,
   "metadata": {
    "vscode": {
     "languageId": "r"
    }
   },
   "outputs": [
    {
     "ename": "",
     "evalue": "",
     "output_type": "error",
     "traceback": [
      "\u001b[1;31mThe Kernel crashed while executing code in the current cell or a previous cell. \n",
      "\u001b[1;31mPlease review the code in the cell(s) to identify a possible cause of the failure. \n",
      "\u001b[1;31mClick <a href='https://aka.ms/vscodeJupyterKernelCrash'>here</a> for more info. \n",
      "\u001b[1;31mView Jupyter <a href='command:jupyter.viewOutput'>log</a> for further details."
     ]
    },
    {
     "ename": "",
     "evalue": "",
     "output_type": "error",
     "traceback": [
      "\u001b[1;31mCanceled future for execute_request message before replies were done"
     ]
    },
    {
     "ename": "",
     "evalue": "",
     "output_type": "error",
     "traceback": [
      "\u001b[1;31mCanceled future for execute_request message before replies were done. \n",
      "\u001b[1;31mView Jupyter <a href='command:jupyter.viewOutput'>log</a> for further details."
     ]
    },
    {
     "ename": "ERROR",
     "evalue": "Error in object.size(so, units = \"Mb\"): unused argument (units = \"Mb\")\n",
     "output_type": "error",
     "traceback": [
      "Error in object.size(so, units = \"Mb\"): unused argument (units = \"Mb\")\nTraceback:\n"
     ]
    }
   ],
   "source": [
    "object.size(so, units = \"Mb\")"
   ]
  },
  {
   "cell_type": "code",
   "execution_count": null,
   "metadata": {
    "vscode": {
     "languageId": "r"
    }
   },
   "outputs": [],
   "source": [
    "saveRDS(so, file = paste0(outdir,\"roche_ms_decontx.rds\"))"
   ]
  },
  {
   "cell_type": "code",
   "execution_count": 4,
   "metadata": {
    "vscode": {
     "languageId": "r"
    }
   },
   "outputs": [],
   "source": [
    "outdir=\"/rds/general/user/ah3918/projects/puklandmarkproject/live/Users/Alex/pipelines/TEST_DATA\""
   ]
  }
 ],
 "metadata": {
  "kernelspec": {
   "display_name": "R",
   "language": "R",
   "name": "ir"
  },
  "language_info": {
   "codemirror_mode": "r",
   "file_extension": ".r",
   "mimetype": "text/x-r-source",
   "name": "R",
   "pygments_lexer": "r",
   "version": "4.3.3"
  }
 },
 "nbformat": 4,
 "nbformat_minor": 2
}
