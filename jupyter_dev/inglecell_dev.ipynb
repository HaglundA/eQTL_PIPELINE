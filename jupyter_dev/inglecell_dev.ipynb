{
 "cells": [
  {
   "cell_type": "code",
   "execution_count": 1,
   "metadata": {
    "vscode": {
     "languageId": "r"
    }
   },
   "outputs": [
    {
     "name": "stderr",
     "output_type": "stream",
     "text": [
      "Loading required package: SeuratObject\n",
      "\n",
      "Loading required package: sp\n",
      "\n",
      "\n",
      "Attaching package: ‘SeuratObject’\n",
      "\n",
      "\n",
      "The following objects are masked from ‘package:base’:\n",
      "\n",
      "    intersect, t\n",
      "\n",
      "\n"
     ]
    }
   ],
   "source": [
    "library(Seurat)\n",
    "library(BPCells)"
   ]
  },
  {
   "cell_type": "code",
   "execution_count": null,
   "metadata": {
    "vscode": {
     "languageId": "r"
    }
   },
   "outputs": [],
   "source": [
    "so=readRDS(\"/rds/general/user/ah3918/projects/roche/live/ALEX/ANALYSIS/SEURAT_OBJECTS/BRYOIS_92_MS_final_annotated_decontXfiltered.rds\")"
   ]
  },
  {
   "cell_type": "code",
   "execution_count": null,
   "metadata": {
    "vscode": {
     "languageId": "r"
    }
   },
   "outputs": [],
   "source": [
    " outdir=\"/rds/general/user/ah3918/projects/puklandmarkproject/live/Users/Alex/pipelines/TEST_DATA\"\n",
    " write_matrix_dir(mat = obj[[\"RNA\"]]$decontXcounts, dir = paste0(outdir,\"roche_ms_decontx\"))\n",
    "write_matrix_dir(mat = obj[[\"RNA\"]]$counts, dir = paste0(outdir,\"roche_ms_rawcounts\"))\n",
    "\n",
    "\n"
   ]
  },
  {
   "cell_type": "code",
   "execution_count": null,
   "metadata": {
    "vscode": {
     "languageId": "r"
    }
   },
   "outputs": [
    {
     "ename": "ERROR",
     "evalue": "Error in write_matrix_dir(mat = obj[[\"RNA\"]]$decontXcounts, dir = paste0(outdir, : could not find function \"write_matrix_dir\"\n",
     "output_type": "error",
     "traceback": [
      "Error in write_matrix_dir(mat = obj[[\"RNA\"]]$decontXcounts, dir = paste0(outdir, : could not find function \"write_matrix_dir\"\nTraceback:\n"
     ]
    }
   ],
   "source": [
    "counts.mat <- open_matrix_dir(dir = paste0(outdir,\"roche_ms_decontx\"))\n",
    "so[[\"RNA\"]]$decontXcounts=counts.mat"
   ]
  },
  {
   "cell_type": "code",
   "execution_count": 4,
   "metadata": {
    "vscode": {
     "languageId": "r"
    }
   },
   "outputs": [],
   "source": [
    "outdir=\"/rds/general/user/ah3918/projects/puklandmarkproject/live/Users/Alex/pipelines/TEST_DATA\""
   ]
  }
 ],
 "metadata": {
  "kernelspec": {
   "display_name": "R-OSIRIS",
   "language": "R",
   "name": "ir"
  },
  "language_info": {
   "codemirror_mode": "r",
   "file_extension": ".r",
   "mimetype": "text/x-r-source",
   "name": "R",
   "pygments_lexer": "r",
   "version": "4.3.3"
  }
 },
 "nbformat": 4,
 "nbformat_minor": 2
}
